{
 "cells": [
  {
   "cell_type": "code",
   "execution_count": 1,
   "metadata": {},
   "outputs": [],
   "source": [
    "%load_ext blackcellmagic"
   ]
  },
  {
   "cell_type": "code",
   "execution_count": 2,
   "metadata": {},
   "outputs": [],
   "source": [
    "import numpy as np\n",
    "import pandas as pd\n",
    "import re\n",
    "import string\n",
    "from string import punctuation\n"
   ]
  },
  {
   "cell_type": "code",
   "execution_count": 3,
   "metadata": {},
   "outputs": [],
   "source": [
    "pd.set_option('display.max_columns', 40)"
   ]
  },
  {
   "cell_type": "code",
   "execution_count": 3,
   "metadata": {},
   "outputs": [
    {
     "name": "stderr",
     "output_type": "stream",
     "text": [
      "/anaconda3/lib/python3.6/site-packages/IPython/core/interactiveshell.py:3020: DtypeWarning: Columns (15,19,30) have mixed types. Specify dtype option on import or set low_memory=False.\n",
      "  interactivity=interactivity, compiler=compiler, result=result)\n"
     ]
    }
   ],
   "source": [
    "raw1 = pd.read_csv('../data/china_082019_1_tweets_csv_hashed.csv')\n",
    "raw2 = pd.read_csv('../data/china_082019_2_tweets_csv_hashed.csv')"
   ]
  },
  {
   "cell_type": "code",
   "execution_count": 4,
   "metadata": {},
   "outputs": [],
   "source": [
    "raw = pd.concat([raw1, raw2])"
   ]
  },
  {
   "cell_type": "code",
   "execution_count": 5,
   "metadata": {},
   "outputs": [
    {
     "data": {
      "text/html": [
       "<div>\n",
       "<style scoped>\n",
       "    .dataframe tbody tr th:only-of-type {\n",
       "        vertical-align: middle;\n",
       "    }\n",
       "\n",
       "    .dataframe tbody tr th {\n",
       "        vertical-align: top;\n",
       "    }\n",
       "\n",
       "    .dataframe thead th {\n",
       "        text-align: right;\n",
       "    }\n",
       "</style>\n",
       "<table border=\"1\" class=\"dataframe\">\n",
       "  <thead>\n",
       "    <tr style=\"text-align: right;\">\n",
       "      <th></th>\n",
       "      <th>tweetid</th>\n",
       "      <th>userid</th>\n",
       "      <th>user_display_name</th>\n",
       "      <th>user_screen_name</th>\n",
       "      <th>user_reported_location</th>\n",
       "      <th>user_profile_description</th>\n",
       "      <th>user_profile_url</th>\n",
       "      <th>follower_count</th>\n",
       "      <th>following_count</th>\n",
       "      <th>account_creation_date</th>\n",
       "      <th>...</th>\n",
       "      <th>latitude</th>\n",
       "      <th>longitude</th>\n",
       "      <th>quote_count</th>\n",
       "      <th>reply_count</th>\n",
       "      <th>like_count</th>\n",
       "      <th>retweet_count</th>\n",
       "      <th>hashtags</th>\n",
       "      <th>urls</th>\n",
       "      <th>user_mentions</th>\n",
       "      <th>poll_choices</th>\n",
       "    </tr>\n",
       "  </thead>\n",
       "  <tbody>\n",
       "    <tr>\n",
       "      <th>0</th>\n",
       "      <td>436306424587890688</td>\n",
       "      <td>206027550</td>\n",
       "      <td>The Flecha</td>\n",
       "      <td>nessniven</td>\n",
       "      <td>Republic of Korea</td>\n",
       "      <td>When you see Jair Bolsonaro and his program of...</td>\n",
       "      <td>NaN</td>\n",
       "      <td>100847</td>\n",
       "      <td>31752</td>\n",
       "      <td>2010-10-22</td>\n",
       "      <td>...</td>\n",
       "      <td>absent</td>\n",
       "      <td>absent</td>\n",
       "      <td>0.0</td>\n",
       "      <td>0.0</td>\n",
       "      <td>1.0</td>\n",
       "      <td>0.0</td>\n",
       "      <td>NaN</td>\n",
       "      <td>NaN</td>\n",
       "      <td>[443196382]</td>\n",
       "      <td>NaN</td>\n",
       "    </tr>\n",
       "    <tr>\n",
       "      <th>1</th>\n",
       "      <td>582682975969624064</td>\n",
       "      <td>206027550</td>\n",
       "      <td>The Flecha</td>\n",
       "      <td>nessniven</td>\n",
       "      <td>Republic of Korea</td>\n",
       "      <td>When you see Jair Bolsonaro and his program of...</td>\n",
       "      <td>NaN</td>\n",
       "      <td>100847</td>\n",
       "      <td>31752</td>\n",
       "      <td>2010-10-22</td>\n",
       "      <td>...</td>\n",
       "      <td>absent</td>\n",
       "      <td>absent</td>\n",
       "      <td>0.0</td>\n",
       "      <td>0.0</td>\n",
       "      <td>0.0</td>\n",
       "      <td>52.0</td>\n",
       "      <td>[]</td>\n",
       "      <td>['http://goo.gl/32K38q']</td>\n",
       "      <td>[]</td>\n",
       "      <td>NaN</td>\n",
       "    </tr>\n",
       "    <tr>\n",
       "      <th>2</th>\n",
       "      <td>582997936541278208</td>\n",
       "      <td>206027550</td>\n",
       "      <td>The Flecha</td>\n",
       "      <td>nessniven</td>\n",
       "      <td>Republic of Korea</td>\n",
       "      <td>When you see Jair Bolsonaro and his program of...</td>\n",
       "      <td>NaN</td>\n",
       "      <td>100847</td>\n",
       "      <td>31752</td>\n",
       "      <td>2010-10-22</td>\n",
       "      <td>...</td>\n",
       "      <td>absent</td>\n",
       "      <td>absent</td>\n",
       "      <td>0.0</td>\n",
       "      <td>0.0</td>\n",
       "      <td>0.0</td>\n",
       "      <td>0.0</td>\n",
       "      <td>[]</td>\n",
       "      <td>[]</td>\n",
       "      <td>[116351908]</td>\n",
       "      <td>NaN</td>\n",
       "    </tr>\n",
       "    <tr>\n",
       "      <th>3</th>\n",
       "      <td>580404049901670400</td>\n",
       "      <td>206027550</td>\n",
       "      <td>The Flecha</td>\n",
       "      <td>nessniven</td>\n",
       "      <td>Republic of Korea</td>\n",
       "      <td>When you see Jair Bolsonaro and his program of...</td>\n",
       "      <td>NaN</td>\n",
       "      <td>100847</td>\n",
       "      <td>31752</td>\n",
       "      <td>2010-10-22</td>\n",
       "      <td>...</td>\n",
       "      <td>absent</td>\n",
       "      <td>absent</td>\n",
       "      <td>0.0</td>\n",
       "      <td>0.0</td>\n",
       "      <td>0.0</td>\n",
       "      <td>0.0</td>\n",
       "      <td>[]</td>\n",
       "      <td>['http://goo.gl/iC1GM9']</td>\n",
       "      <td>[]</td>\n",
       "      <td>NaN</td>\n",
       "    </tr>\n",
       "    <tr>\n",
       "      <th>4</th>\n",
       "      <td>199007241142149121</td>\n",
       "      <td>206027550</td>\n",
       "      <td>The Flecha</td>\n",
       "      <td>nessniven</td>\n",
       "      <td>Republic of Korea</td>\n",
       "      <td>When you see Jair Bolsonaro and his program of...</td>\n",
       "      <td>NaN</td>\n",
       "      <td>100847</td>\n",
       "      <td>31752</td>\n",
       "      <td>2010-10-22</td>\n",
       "      <td>...</td>\n",
       "      <td>absent</td>\n",
       "      <td>absent</td>\n",
       "      <td>0.0</td>\n",
       "      <td>0.0</td>\n",
       "      <td>0.0</td>\n",
       "      <td>0.0</td>\n",
       "      <td>NaN</td>\n",
       "      <td>['http://migre.me/8Ycqm']</td>\n",
       "      <td>NaN</td>\n",
       "      <td>NaN</td>\n",
       "    </tr>\n",
       "  </tbody>\n",
       "</table>\n",
       "<p>5 rows × 31 columns</p>\n",
       "</div>"
      ],
      "text/plain": [
       "              tweetid     userid user_display_name user_screen_name  \\\n",
       "0  436306424587890688  206027550        The Flecha        nessniven   \n",
       "1  582682975969624064  206027550        The Flecha        nessniven   \n",
       "2  582997936541278208  206027550        The Flecha        nessniven   \n",
       "3  580404049901670400  206027550        The Flecha        nessniven   \n",
       "4  199007241142149121  206027550        The Flecha        nessniven   \n",
       "\n",
       "  user_reported_location                           user_profile_description  \\\n",
       "0      Republic of Korea  When you see Jair Bolsonaro and his program of...   \n",
       "1      Republic of Korea  When you see Jair Bolsonaro and his program of...   \n",
       "2      Republic of Korea  When you see Jair Bolsonaro and his program of...   \n",
       "3      Republic of Korea  When you see Jair Bolsonaro and his program of...   \n",
       "4      Republic of Korea  When you see Jair Bolsonaro and his program of...   \n",
       "\n",
       "  user_profile_url  follower_count  following_count account_creation_date  \\\n",
       "0              NaN          100847            31752            2010-10-22   \n",
       "1              NaN          100847            31752            2010-10-22   \n",
       "2              NaN          100847            31752            2010-10-22   \n",
       "3              NaN          100847            31752            2010-10-22   \n",
       "4              NaN          100847            31752            2010-10-22   \n",
       "\n",
       "   ... latitude longitude quote_count reply_count like_count retweet_count  \\\n",
       "0  ...   absent    absent         0.0         0.0        1.0           0.0   \n",
       "1  ...   absent    absent         0.0         0.0        0.0          52.0   \n",
       "2  ...   absent    absent         0.0         0.0        0.0           0.0   \n",
       "3  ...   absent    absent         0.0         0.0        0.0           0.0   \n",
       "4  ...   absent    absent         0.0         0.0        0.0           0.0   \n",
       "\n",
       "   hashtags                       urls  user_mentions poll_choices  \n",
       "0       NaN                        NaN    [443196382]          NaN  \n",
       "1        []   ['http://goo.gl/32K38q']             []          NaN  \n",
       "2        []                         []    [116351908]          NaN  \n",
       "3        []   ['http://goo.gl/iC1GM9']             []          NaN  \n",
       "4       NaN  ['http://migre.me/8Ycqm']            NaN          NaN  \n",
       "\n",
       "[5 rows x 31 columns]"
      ]
     },
     "execution_count": 5,
     "metadata": {},
     "output_type": "execute_result"
    }
   ],
   "source": [
    "raw.head()"
   ]
  },
  {
   "cell_type": "code",
   "execution_count": 6,
   "metadata": {},
   "outputs": [
    {
     "data": {
      "text/plain": [
       "(3614909, 31)"
      ]
     },
     "execution_count": 6,
     "metadata": {},
     "output_type": "execute_result"
    }
   ],
   "source": [
    "raw.shape"
   ]
  },
  {
   "cell_type": "code",
   "execution_count": 7,
   "metadata": {},
   "outputs": [
    {
     "name": "stdout",
     "output_type": "stream",
     "text": [
      "<class 'pandas.core.frame.DataFrame'>\n",
      "Int64Index: 3614909 entries, 0 to 1708077\n",
      "Data columns (total 31 columns):\n",
      "tweetid                     int64\n",
      "userid                      object\n",
      "user_display_name           object\n",
      "user_screen_name            object\n",
      "user_reported_location      object\n",
      "user_profile_description    object\n",
      "user_profile_url            object\n",
      "follower_count              int64\n",
      "following_count             int64\n",
      "account_creation_date       object\n",
      "account_language            object\n",
      "tweet_language              object\n",
      "tweet_text                  object\n",
      "tweet_time                  object\n",
      "tweet_client_name           object\n",
      "in_reply_to_userid          object\n",
      "in_reply_to_tweetid         float64\n",
      "quoted_tweet_tweetid        float64\n",
      "is_retweet                  bool\n",
      "retweet_userid              object\n",
      "retweet_tweetid             float64\n",
      "latitude                    object\n",
      "longitude                   object\n",
      "quote_count                 float64\n",
      "reply_count                 float64\n",
      "like_count                  float64\n",
      "retweet_count               float64\n",
      "hashtags                    object\n",
      "urls                        object\n",
      "user_mentions               object\n",
      "poll_choices                object\n",
      "dtypes: bool(1), float64(7), int64(3), object(20)\n",
      "memory usage: 858.4+ MB\n"
     ]
    }
   ],
   "source": [
    "raw.info()"
   ]
  },
  {
   "cell_type": "code",
   "execution_count": 8,
   "metadata": {},
   "outputs": [],
   "source": [
    "raw = raw.drop(\n",
    "    columns=[\n",
    "        \"user_profile_url\",\n",
    "        \"tweet_client_name\",\n",
    "        \"in_reply_to_tweetid\",\n",
    "        \"in_reply_to_userid\",\n",
    "        \"quoted_tweet_tweetid\",\n",
    "        \"is_retweet\",\n",
    "        \"retweet_userid\",\n",
    "        \"retweet_tweetid\",\n",
    "        \"quote_count\",\n",
    "        \"reply_count\",\n",
    "        \"urls\",\n",
    "        \"user_mentions\",\n",
    "        \"poll_choices\",\n",
    "        \"latitude\", # no values in dataset beyond absent/present \n",
    "        \"longitude\", # no values in dataset beyond absent/present\n",
    "        \"like_count\",\n",
    "        \"retweet_count\"\n",
    "    ]\n",
    ")"
   ]
  },
  {
   "cell_type": "code",
   "execution_count": 9,
   "metadata": {},
   "outputs": [
    {
     "data": {
      "text/html": [
       "<div>\n",
       "<style scoped>\n",
       "    .dataframe tbody tr th:only-of-type {\n",
       "        vertical-align: middle;\n",
       "    }\n",
       "\n",
       "    .dataframe tbody tr th {\n",
       "        vertical-align: top;\n",
       "    }\n",
       "\n",
       "    .dataframe thead th {\n",
       "        text-align: right;\n",
       "    }\n",
       "</style>\n",
       "<table border=\"1\" class=\"dataframe\">\n",
       "  <thead>\n",
       "    <tr style=\"text-align: right;\">\n",
       "      <th></th>\n",
       "      <th>tweetid</th>\n",
       "      <th>userid</th>\n",
       "      <th>user_display_name</th>\n",
       "      <th>user_screen_name</th>\n",
       "      <th>user_reported_location</th>\n",
       "      <th>user_profile_description</th>\n",
       "      <th>follower_count</th>\n",
       "      <th>following_count</th>\n",
       "      <th>account_creation_date</th>\n",
       "      <th>account_language</th>\n",
       "      <th>tweet_language</th>\n",
       "      <th>tweet_text</th>\n",
       "      <th>tweet_time</th>\n",
       "      <th>hashtags</th>\n",
       "    </tr>\n",
       "  </thead>\n",
       "  <tbody>\n",
       "    <tr>\n",
       "      <th>0</th>\n",
       "      <td>436306424587890688</td>\n",
       "      <td>206027550</td>\n",
       "      <td>The Flecha</td>\n",
       "      <td>nessniven</td>\n",
       "      <td>Republic of Korea</td>\n",
       "      <td>When you see Jair Bolsonaro and his program of...</td>\n",
       "      <td>100847</td>\n",
       "      <td>31752</td>\n",
       "      <td>2010-10-22</td>\n",
       "      <td>en</td>\n",
       "      <td>pt</td>\n",
       "      <td>segui o @instagranzin e ganhei 89 seguidores ♥...</td>\n",
       "      <td>2014-02-20 01:08</td>\n",
       "      <td>NaN</td>\n",
       "    </tr>\n",
       "    <tr>\n",
       "      <th>1</th>\n",
       "      <td>582682975969624064</td>\n",
       "      <td>206027550</td>\n",
       "      <td>The Flecha</td>\n",
       "      <td>nessniven</td>\n",
       "      <td>Republic of Korea</td>\n",
       "      <td>When you see Jair Bolsonaro and his program of...</td>\n",
       "      <td>100847</td>\n",
       "      <td>31752</td>\n",
       "      <td>2010-10-22</td>\n",
       "      <td>en</td>\n",
       "      <td>pt</td>\n",
       "      <td>10 COISAS QUE VOCÊ NÃO SABE SOBRE A VAGINA (a ...</td>\n",
       "      <td>2015-03-30 23:17</td>\n",
       "      <td>[]</td>\n",
       "    </tr>\n",
       "    <tr>\n",
       "      <th>2</th>\n",
       "      <td>582997936541278208</td>\n",
       "      <td>206027550</td>\n",
       "      <td>The Flecha</td>\n",
       "      <td>nessniven</td>\n",
       "      <td>Republic of Korea</td>\n",
       "      <td>When you see Jair Bolsonaro and his program of...</td>\n",
       "      <td>100847</td>\n",
       "      <td>31752</td>\n",
       "      <td>2010-10-22</td>\n",
       "      <td>en</td>\n",
       "      <td>pt</td>\n",
       "      <td>QUE LEGAL! Segui o @AsPositlvidades e ele me i...</td>\n",
       "      <td>2015-03-31 20:08</td>\n",
       "      <td>[]</td>\n",
       "    </tr>\n",
       "    <tr>\n",
       "      <th>3</th>\n",
       "      <td>580404049901670400</td>\n",
       "      <td>206027550</td>\n",
       "      <td>The Flecha</td>\n",
       "      <td>nessniven</td>\n",
       "      <td>Republic of Korea</td>\n",
       "      <td>When you see Jair Bolsonaro and his program of...</td>\n",
       "      <td>100847</td>\n",
       "      <td>31752</td>\n",
       "      <td>2010-10-22</td>\n",
       "      <td>en</td>\n",
       "      <td>pt</td>\n",
       "      <td>Cantora de funk de 7 anos gera polemica na int...</td>\n",
       "      <td>2015-03-24 16:21</td>\n",
       "      <td>[]</td>\n",
       "    </tr>\n",
       "    <tr>\n",
       "      <th>4</th>\n",
       "      <td>199007241142149121</td>\n",
       "      <td>206027550</td>\n",
       "      <td>The Flecha</td>\n",
       "      <td>nessniven</td>\n",
       "      <td>Republic of Korea</td>\n",
       "      <td>When you see Jair Bolsonaro and his program of...</td>\n",
       "      <td>100847</td>\n",
       "      <td>31752</td>\n",
       "      <td>2010-10-22</td>\n",
       "      <td>en</td>\n",
       "      <td>NaN</td>\n",
       "      <td>QUER GANHAR SEGUIDORES FACIL? A QUANTIL QUE QU...</td>\n",
       "      <td>2012-05-06 05:26</td>\n",
       "      <td>NaN</td>\n",
       "    </tr>\n",
       "  </tbody>\n",
       "</table>\n",
       "</div>"
      ],
      "text/plain": [
       "              tweetid     userid user_display_name user_screen_name  \\\n",
       "0  436306424587890688  206027550        The Flecha        nessniven   \n",
       "1  582682975969624064  206027550        The Flecha        nessniven   \n",
       "2  582997936541278208  206027550        The Flecha        nessniven   \n",
       "3  580404049901670400  206027550        The Flecha        nessniven   \n",
       "4  199007241142149121  206027550        The Flecha        nessniven   \n",
       "\n",
       "  user_reported_location                           user_profile_description  \\\n",
       "0      Republic of Korea  When you see Jair Bolsonaro and his program of...   \n",
       "1      Republic of Korea  When you see Jair Bolsonaro and his program of...   \n",
       "2      Republic of Korea  When you see Jair Bolsonaro and his program of...   \n",
       "3      Republic of Korea  When you see Jair Bolsonaro and his program of...   \n",
       "4      Republic of Korea  When you see Jair Bolsonaro and his program of...   \n",
       "\n",
       "   follower_count  following_count account_creation_date account_language  \\\n",
       "0          100847            31752            2010-10-22               en   \n",
       "1          100847            31752            2010-10-22               en   \n",
       "2          100847            31752            2010-10-22               en   \n",
       "3          100847            31752            2010-10-22               en   \n",
       "4          100847            31752            2010-10-22               en   \n",
       "\n",
       "  tweet_language                                         tweet_text  \\\n",
       "0             pt  segui o @instagranzin e ganhei 89 seguidores ♥...   \n",
       "1             pt  10 COISAS QUE VOCÊ NÃO SABE SOBRE A VAGINA (a ...   \n",
       "2             pt  QUE LEGAL! Segui o @AsPositlvidades e ele me i...   \n",
       "3             pt  Cantora de funk de 7 anos gera polemica na int...   \n",
       "4            NaN  QUER GANHAR SEGUIDORES FACIL? A QUANTIL QUE QU...   \n",
       "\n",
       "         tweet_time hashtags  \n",
       "0  2014-02-20 01:08      NaN  \n",
       "1  2015-03-30 23:17       []  \n",
       "2  2015-03-31 20:08       []  \n",
       "3  2015-03-24 16:21       []  \n",
       "4  2012-05-06 05:26      NaN  "
      ]
     },
     "execution_count": 9,
     "metadata": {},
     "output_type": "execute_result"
    }
   ],
   "source": [
    "raw.head()"
   ]
  },
  {
   "cell_type": "code",
   "execution_count": 10,
   "metadata": {},
   "outputs": [
    {
     "name": "stdout",
     "output_type": "stream",
     "text": [
      "Unique userids 890\n",
      "Unique user display names 883\n",
      "Unique user screen names 890\n",
      "Unique user reported locations 178\n",
      "Unique user creation dates 427\n",
      "Unique account languages 9\n",
      "Unique tweet languages 59\n",
      "Unique tweet text 3236991\n",
      "Unique tweet time 1412732\n",
      "Unique hashtags 110957\n"
     ]
    }
   ],
   "source": [
    "print(\"Unique userids\", raw[\"userid\"].nunique())\n",
    "print(\"Unique user display names\", raw[\"user_display_name\"].nunique(),)\n",
    "print(\"Unique user screen names\", raw[\"user_screen_name\"].nunique(), )\n",
    "print(\"Unique user reported locations\", raw[\"user_reported_location\"].nunique(),)\n",
    "print(\"Unique user creation dates\", raw[\"account_creation_date\"].nunique(),)\n",
    "print(\"Unique account languages\", raw[\"account_language\"].nunique(),)\n",
    "print(\"Unique tweet languages\", raw[\"tweet_language\"].nunique(),)\n",
    "print(\"Unique tweet text\", raw[\"tweet_text\"].nunique(), )\n",
    "print(\"Unique tweet time\", raw[\"tweet_time\"].nunique(), )\n",
    "print(\"Unique hashtags\", raw[\"hashtags\"].nunique(),)"
   ]
  },
  {
   "cell_type": "code",
   "execution_count": 11,
   "metadata": {},
   "outputs": [],
   "source": [
    "# removing tweets with RTs, which number 1,040,647\n",
    "raw = raw[~raw['tweet_text'].str.startswith(\"RT @\")].copy()"
   ]
  },
  {
   "cell_type": "code",
   "execution_count": 12,
   "metadata": {},
   "outputs": [
    {
     "data": {
      "text/plain": [
       "(2574262, 14)"
      ]
     },
     "execution_count": 12,
     "metadata": {},
     "output_type": "execute_result"
    }
   ],
   "source": [
    "raw.shape"
   ]
  },
  {
   "cell_type": "code",
   "execution_count": 15,
   "metadata": {},
   "outputs": [
    {
     "data": {
      "text/plain": [
       "in     756396\n",
       "en     443038\n",
       "zh     138032\n",
       "und     92043\n",
       "ar      76906\n",
       "es      67413\n",
       "tl      30012\n",
       "pt      26040\n",
       "ja       9116\n",
       "et       9082\n",
       "Name: tweet_language, dtype: int64"
      ]
     },
     "execution_count": 15,
     "metadata": {},
     "output_type": "execute_result"
    }
   ],
   "source": [
    "# The top language used for the tweets is strangely enough Bahasa Indonesia..?\n",
    "raw['tweet_language'].value_counts().head(10)"
   ]
  },
  {
   "cell_type": "code",
   "execution_count": 16,
   "metadata": {},
   "outputs": [],
   "source": [
    "# filtering out tweets only for English and Chinese tweet text\n",
    "raw = raw[(raw['tweet_language'] == 'en') | (raw['tweet_language'] == 'zh')].copy()"
   ]
  },
  {
   "cell_type": "code",
   "execution_count": 18,
   "metadata": {},
   "outputs": [
    {
     "data": {
      "text/plain": [
       "(581070, 14)"
      ]
     },
     "execution_count": 18,
     "metadata": {},
     "output_type": "execute_result"
    }
   ],
   "source": [
    "# further significant drop in number of tweets after filtering out non-English \n",
    "# and non-Chinese tweets. 1,993,192 tweets were dropped\n",
    "raw.shape"
   ]
  },
  {
   "cell_type": "code",
   "execution_count": null,
   "metadata": {},
   "outputs": [],
   "source": [
    "# Quick check on English key words associated with HK protests, prior to using NLP tools later\n",
    "key_words1 = raw[raw['tweet_text'].str.contains('hong kong')]\n",
    "key_words2 = raw[raw['tweet_text'].str.contains('Hong Kong')]\n",
    "key_words3 = raw[raw['tweet_text'].str.contains('protest')]\n",
    "key_words4 = raw[raw['tweet_text'].str.contains('activists')]\n",
    "key_words1 = raw[raw['tweet_text'].str.contains('hong kong')]\n",
    "key_words1 = raw[raw['tweet_text'].str.contains('hong kong')]"
   ]
  },
  {
   "cell_type": "code",
   "execution_count": null,
   "metadata": {},
   "outputs": [],
   "source": []
  },
  {
   "cell_type": "code",
   "execution_count": null,
   "metadata": {},
   "outputs": [],
   "source": []
  },
  {
   "cell_type": "code",
   "execution_count": 24,
   "metadata": {},
   "outputs": [
    {
     "data": {
      "text/plain": [
       "曲剑明               54455\n",
       "阿丽木琴              46600\n",
       "Klausv            34451\n",
       "春天里               17989\n",
       "gwalcki4          17707\n",
       "emiliya naum      16230\n",
       "derrickmc         16163\n",
       "Lily Mann         14673\n",
       "炫彩                14604\n",
       "mauricerowleyx    11749\n",
       "Name: user_display_name, dtype: int64"
      ]
     },
     "execution_count": 24,
     "metadata": {},
     "output_type": "execute_result"
    }
   ],
   "source": [
    "# top 10 users and their display/screen names\n",
    "raw['user_display_name'].value_counts().head(10)"
   ]
  },
  {
   "cell_type": "code",
   "execution_count": 21,
   "metadata": {},
   "outputs": [
    {
     "data": {
      "text/plain": [
       "qujianming1        54455\n",
       "SamanthxBerg       46600\n",
       "klausv02           34451\n",
       "RanvijaySowle      17989\n",
       "ingaibragimova1    17707\n",
       "emiliya_naum       16230\n",
       "derrickmcnabbx     16163\n",
       "lily__mann         14673\n",
       "SheldonxLill       14604\n",
       "mauricerowleyx     11749\n",
       "Name: user_screen_name, dtype: int64"
      ]
     },
     "execution_count": 21,
     "metadata": {},
     "output_type": "execute_result"
    }
   ],
   "source": [
    "# top 10 users and their display/screen names\n",
    "raw['user_screen_name'].value_counts().head(10)"
   ]
  },
  {
   "cell_type": "code",
   "execution_count": 26,
   "metadata": {},
   "outputs": [
    {
     "data": {
      "text/plain": [
       "纽约布朗克斯                         54455\n",
       "United States                  42737\n",
       "Manhattan, NY                  35531\n",
       "Georgia, USA                   22220\n",
       "Los Angeles, CA                18368\n",
       "California, USA                18291\n",
       "Portland, OR                   17989\n",
       "Texas                          14673\n",
       "Worldwide, now mainly Italy     7582\n",
       "Lubbock, TX                     6532\n",
       "Name: user_reported_location, dtype: int64"
      ]
     },
     "execution_count": 26,
     "metadata": {},
     "output_type": "execute_result"
    }
   ],
   "source": [
    "raw['user_reported_location'].value_counts().head(10)"
   ]
  },
  {
   "cell_type": "code",
   "execution_count": 27,
   "metadata": {},
   "outputs": [
    {
     "data": {
      "text/plain": [
       "zh-cn    364854\n",
       "en       159626\n",
       "zh-CN     47954\n",
       "zh-tw      4069\n",
       "es         2811\n",
       "ja          765\n",
       "en-gb       676\n",
       "ru          302\n",
       "fr           13\n",
       "Name: account_language, dtype: int64"
      ]
     },
     "execution_count": 27,
     "metadata": {},
     "output_type": "execute_result"
    }
   ],
   "source": [
    "raw['account_language'].value_counts()"
   ]
  },
  {
   "cell_type": "code",
   "execution_count": 33,
   "metadata": {},
   "outputs": [
    {
     "data": {
      "text/plain": [
       "[]                                            453846\n",
       "['ptl']                                         9486\n",
       "['WTL']                                         6282\n",
       "['wtl']                                         6028\n",
       "['整点报时']                                        5917\n",
       "['tlrp']                                        5718\n",
       "['pltl']                                        4662\n",
       "['RTL']                                         4581\n",
       "['rtl']                                         4017\n",
       "['nrp']                                         1992\n",
       "['TopNewFollowers']                             1903\n",
       "['郭文贵']                                         1615\n",
       "['HarryMeetShalanna']                           1148\n",
       "['桂民海']                                          944\n",
       "['PTL']                                          855\n",
       "['senpaiBot']                                    837\n",
       "['TLRP']                                         821\n",
       "['rptl']                                         818\n",
       "['JeyDice']                                      612\n",
       "['ic']                                           549\n",
       "['job', 'jobs', 'hiring', 'IT', 'ITJob']         524\n",
       "['OperationVacation']                            509\n",
       "['砸锅', '郭文贵']                                    444\n",
       "['job', 'jobs', 'hiring']                        422\n",
       "['mtvstars']                                     387\n",
       "['NRP']                                          361\n",
       "['bb']                                           302\n",
       "['etl']                                          293\n",
       "['JeydonLopez']                                  289\n",
       "['PLTL']                                         280\n",
       "                                               ...  \n",
       "['nzsecretsanta']                                 80\n",
       "['BattleOfTheFandoms']                            78\n",
       "['MyWattysChoice']                                78\n",
       "['rbstl']                                         76\n",
       "['ClonelleShipper']                               69\n",
       "['政泉', '郭文贵']                                     65\n",
       "['FifthHarmony', 'ThatsMyJam']                    65\n",
       "['Eminem']                                        64\n",
       "['iHeartAwards', 'BestFanArmy', 'EXOL']           64\n",
       "['GreenMonday']                                   63\n",
       "['QueenoftheSkies', 'Boeing747']                  61\n",
       "['Android', 'androidgames', 'gameinsight']        60\n",
       "['westchester']                                   60\n",
       "['harrymeetshalanna']                             60\n",
       "['HappyAnnivTeamJEYDICE']                         58\n",
       "['NiallAppreciationDay', 'MTVHottest']            54\n",
       "['LouisAppreciationDay']                          53\n",
       "['ParodyIsTheBest']                               52\n",
       "['ZaynAppreciationDay']                           52\n",
       "['HarryAppreciationDay', 'MTVHottest']            52\n",
       "['坦克猫']                                           50\n",
       "['5G']                                            50\n",
       "['LiamAppreciationDay', 'MTVHottest']             50\n",
       "['Arizona']                                       50\n",
       "['YayoiKusama', 'FestivalofLife']                 49\n",
       "['quotes']                                        48\n",
       "['AMAs']                                          48\n",
       "['MTVCLASH']                                      47\n",
       "['DVORS']                                         47\n",
       "['Ptl']                                           44\n",
       "Name: hashtags, Length: 100, dtype: int64"
      ]
     },
     "execution_count": 33,
     "metadata": {},
     "output_type": "execute_result"
    }
   ],
   "source": [
    "raw['hashtags'].value_counts().head(100)"
   ]
  },
  {
   "cell_type": "markdown",
   "metadata": {},
   "source": [
    "## 1.1 EXTRACTING NEW FEATURES FROM THE TWEET_TEXT COL"
   ]
  },
  {
   "cell_type": "code",
   "execution_count": 22,
   "metadata": {},
   "outputs": [],
   "source": [
    "# hastags\n",
    "raw['hashtags_add'] = raw['tweet_text'].apply(lambda x: len([x for x in x.split() if x.startswith('#')]))"
   ]
  },
  {
   "cell_type": "code",
   "execution_count": 23,
   "metadata": {},
   "outputs": [],
   "source": [
    "# links\n",
    "raw['links'] = raw['tweet_text'].apply(lambda x: len([x for x in x.split() if x.startswith('https')]))"
   ]
  },
  {
   "cell_type": "code",
   "execution_count": 24,
   "metadata": {},
   "outputs": [],
   "source": [
    "# Upper-case words\n",
    "raw['upper'] = raw['tweet_text'].apply(lambda x: len([x for x in x.split() if x.isupper()]))"
   ]
  },
  {
   "cell_type": "code",
   "execution_count": 25,
   "metadata": {},
   "outputs": [],
   "source": [
    "# number of characters in each tweet\n",
    "raw['char_count'] = raw['tweet_text'].str.len()"
   ]
  },
  {
   "cell_type": "code",
   "execution_count": 26,
   "metadata": {},
   "outputs": [],
   "source": [
    "# Number of words in tweet text\n",
    "raw['tweet_word_count'] = raw['tweet_text'].apply(lambda x: len(str(x).split(\" \")))"
   ]
  },
  {
   "cell_type": "code",
   "execution_count": 27,
   "metadata": {},
   "outputs": [],
   "source": [
    "#Average word length of each tweet\n",
    "def avg_word(tweet):\n",
    "    words = tweet.split()\n",
    "    return (sum(len(word) for word in words)/len(words))"
   ]
  },
  {
   "cell_type": "code",
   "execution_count": 28,
   "metadata": {},
   "outputs": [],
   "source": [
    "raw['average_num_of_words'] = raw['tweet_text'].apply(lambda x: avg_word(x))"
   ]
  },
  {
   "cell_type": "markdown",
   "metadata": {},
   "source": [
    "## 1.2 FOLLOWER-FOLLOWING RATIO\n",
    "One likely characteristic of state-backed accounts is they follow a lot of users (or fellow fake accounts), and have very few real followers, ie, unusually low follower-to-following ratio (less than 1 perhaps). Let's create a new column to for this ratio"
   ]
  },
  {
   "cell_type": "code",
   "execution_count": 29,
   "metadata": {},
   "outputs": [],
   "source": [
    "raw['follower-to-following_ratio'] = raw['follower_count'] / raw['following_count']"
   ]
  },
  {
   "cell_type": "code",
   "execution_count": 30,
   "metadata": {},
   "outputs": [
    {
     "data": {
      "text/plain": [
       "0.022222        2\n",
       "0.035714        1\n",
       "1.399816        1\n",
       "8.761905        1\n",
       "18781.000000    1\n",
       "Name: follower-to-following_ratio, dtype: int64"
      ]
     },
     "execution_count": 30,
     "metadata": {},
     "output_type": "execute_result"
    }
   ],
   "source": [
    "raw['follower-to-following_ratio'].value_counts().tail()"
   ]
  },
  {
   "cell_type": "markdown",
   "metadata": {},
   "source": [
    "## 1.3 YEAR OF ACCOUNT CREATION\n",
    "We know that a lot of state-backed accounts were created in 2014, and thereafter, following the setup of the Internet Research Agency. So it will be worthwhile to isolate this element for further analysis."
   ]
  },
  {
   "cell_type": "code",
   "execution_count": 31,
   "metadata": {},
   "outputs": [],
   "source": [
    "raw['account_creation_date'] = pd.to_datetime(raw['account_creation_date'], yearfirst=True)"
   ]
  },
  {
   "cell_type": "code",
   "execution_count": 32,
   "metadata": {},
   "outputs": [],
   "source": [
    "raw['year_of_account_creation'] = raw['account_creation_date'].dt.year"
   ]
  },
  {
   "cell_type": "code",
   "execution_count": 33,
   "metadata": {},
   "outputs": [],
   "source": [
    "raw['month_of_account_creation'] = raw['account_creation_date'].dt.month"
   ]
  },
  {
   "cell_type": "code",
   "execution_count": 34,
   "metadata": {},
   "outputs": [],
   "source": [
    "raw['month_of_account_creation'] = raw['account_creation_date'].dt.month"
   ]
  },
  {
   "cell_type": "markdown",
   "metadata": {},
   "source": [
    "## 1.4 TWEET TIME \n",
    "Another key assumption is that the state-backed accounts stepped up their activities closer to the US election. Splitting up the tweet times according to year, month and day will allow us to group these tweets more easily during the visualisation phase "
   ]
  },
  {
   "cell_type": "code",
   "execution_count": 35,
   "metadata": {},
   "outputs": [],
   "source": [
    "raw['tweet_time'] = pd.to_datetime(raw['tweet_time'])"
   ]
  },
  {
   "cell_type": "code",
   "execution_count": 36,
   "metadata": {},
   "outputs": [],
   "source": [
    "raw['tweet_year'] = raw['tweet_time'].dt.year"
   ]
  },
  {
   "cell_type": "code",
   "execution_count": 37,
   "metadata": {},
   "outputs": [],
   "source": [
    "raw['tweet_month'] = raw['tweet_time'].dt.month"
   ]
  },
  {
   "cell_type": "code",
   "execution_count": 38,
   "metadata": {},
   "outputs": [],
   "source": [
    "raw['tweet_day'] = raw['tweet_time'].dt.day"
   ]
  },
  {
   "cell_type": "markdown",
   "metadata": {},
   "source": [
    "## 1.5 CLEAN UP TWEET_TEXT COL\n",
    "I'll keep the original tweet text column for reference, and create a newly cleaned column with punctuation etc taken out for the NLP portion of the analysis."
   ]
  },
  {
   "cell_type": "code",
   "execution_count": 39,
   "metadata": {},
   "outputs": [],
   "source": [
    "def clean_tweet(text):\n",
    "    text = text.lower()\n",
    "    text = re.sub(r\"http\\S+\", \"\", text)\n",
    "    text = re.sub(\"\\W\", \" \", text)\n",
    "    text = re.sub(\"\\s+\", \" \", text)\n",
    "    text = text.strip(\" \")\n",
    "    text = text.strip(\"\\n\")\n",
    "    text = re.sub(\"[^\\w\\s]\", \"\", text)\n",
    "    return text"
   ]
  },
  {
   "cell_type": "code",
   "execution_count": 40,
   "metadata": {},
   "outputs": [],
   "source": [
    "raw['clean_tweet_text'] = raw['tweet_text'].map(lambda tweet: clean_tweet(tweet))"
   ]
  },
  {
   "cell_type": "code",
   "execution_count": null,
   "metadata": {},
   "outputs": [],
   "source": []
  },
  {
   "cell_type": "code",
   "execution_count": 42,
   "metadata": {},
   "outputs": [],
   "source": [
    "hk = raw[\n",
    "    [\n",
    "        \"tweetid\",\n",
    "        \"user_screen_name\",\n",
    "        \"user_display_name\",        \n",
    "        \"user_reported_location\",\n",
    "        \"user_profile_description\",\n",
    "        \"follower_count\",\n",
    "        \"following_count\",\n",
    "        \"follower-to-following_ratio\",\n",
    "        \"account_creation_date\",\n",
    "        \"year_of_account_creation\",\n",
    "        \"month_of_account_creation\",\n",
    "        \"tweet_time\",\n",
    "        \"tweet_year\",\n",
    "        \"tweet_month\",\n",
    "        \"tweet_day\",\n",
    "        \"tweet_text\",\n",
    "        \"clean_tweet_text\",\n",
    "        \"hashtags\",\n",
    "        \"hashtags_add\",\n",
    "        \"links\",\n",
    "        \"upper\",\n",
    "        \"char_count\",\n",
    "        \"tweet_word_count\",\n",
    "        \"average_num_of_words\",\n",
    "    ]\n",
    "]"
   ]
  },
  {
   "cell_type": "code",
   "execution_count": 47,
   "metadata": {},
   "outputs": [],
   "source": [
    "hk = hk[~hk['tweet_text'].str.startswith(\"RT @\")].copy()"
   ]
  },
  {
   "cell_type": "code",
   "execution_count": null,
   "metadata": {},
   "outputs": [],
   "source": []
  },
  {
   "cell_type": "code",
   "execution_count": null,
   "metadata": {},
   "outputs": [],
   "source": []
  },
  {
   "cell_type": "code",
   "execution_count": 44,
   "metadata": {},
   "outputs": [
    {
     "data": {
      "text/plain": [
       "Index(['tweetid', 'user_screen_name', 'user_display_name',\n",
       "       'user_reported_location', 'user_profile_description', 'follower_count',\n",
       "       'following_count', 'follower-to-following_ratio',\n",
       "       'account_creation_date', 'year_of_account_creation',\n",
       "       'month_of_account_creation', 'tweet_time', 'tweet_year', 'tweet_month',\n",
       "       'tweet_day', 'tweet_text', 'clean_tweet_text', 'hashtags',\n",
       "       'hashtags_add', 'links', 'upper', 'char_count', 'tweet_word_count',\n",
       "       'average_num_of_words'],\n",
       "      dtype='object')"
      ]
     },
     "execution_count": 44,
     "metadata": {},
     "output_type": "execute_result"
    }
   ],
   "source": [
    "hk.columns"
   ]
  },
  {
   "cell_type": "code",
   "execution_count": 51,
   "metadata": {},
   "outputs": [
    {
     "data": {
      "text/plain": [
       "(2574262, 24)"
      ]
     },
     "execution_count": 51,
     "metadata": {},
     "output_type": "execute_result"
    }
   ],
   "source": [
    "hk.shape"
   ]
  },
  {
   "cell_type": "code",
   "execution_count": null,
   "metadata": {},
   "outputs": [],
   "source": []
  },
  {
   "cell_type": "code",
   "execution_count": null,
   "metadata": {},
   "outputs": [],
   "source": []
  }
 ],
 "metadata": {
  "kernelspec": {
   "display_name": "Python 3",
   "language": "python",
   "name": "python3"
  },
  "language_info": {
   "codemirror_mode": {
    "name": "ipython",
    "version": 3
   },
   "file_extension": ".py",
   "mimetype": "text/x-python",
   "name": "python",
   "nbconvert_exporter": "python",
   "pygments_lexer": "ipython3",
   "version": "3.6.8"
  }
 },
 "nbformat": 4,
 "nbformat_minor": 2
}
