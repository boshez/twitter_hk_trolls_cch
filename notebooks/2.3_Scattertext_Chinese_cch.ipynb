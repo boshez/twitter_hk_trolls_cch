{
 "cells": [
  {
   "cell_type": "markdown",
   "metadata": {},
   "source": [
    "# HK PROTESTS: Visualising Chinese State Troll Tweets, Part 4 (Using Scattertext for Chinese text)\n",
    "\n",
    "Scattertext works well for Chinese text, and presents an attrative alternative to the frequency distribution charts. But the resulting interactive html files can become too big, even for a modest body of Chinese text."
   ]
  },
  {
   "cell_type": "code",
   "execution_count": 2,
   "metadata": {},
   "outputs": [],
   "source": [
    "import matplotlib as mpl\n",
    "import matplotlib.pyplot as plt\n",
    "import numpy as np\n",
    "import pandas as pd\n",
    "import re\n",
    "import string\n",
    "import scattertext as st\n",
    "import spacy\n",
    "import jieba\n",
    "\n",
    "from IPython.display import IFrame\n",
    "from IPython.core.display import display, HTML\n",
    "from scattertext import CorpusFromParsedDocuments\n",
    "from scattertext import chinese_nlp\n",
    "from scattertext import produce_scattertext_explorer\n",
    "\n",
    "mpl.rcParams[\"figure.dpi\"] = 300\n",
    "%matplotlib inline\n",
    "%config InlineBackend.figure_format ='retina'"
   ]
  },
  {
   "cell_type": "code",
   "execution_count": 3,
   "metadata": {},
   "outputs": [],
   "source": [
    "pd.set_option('display.max_columns', 40)"
   ]
  },
  {
   "cell_type": "markdown",
   "metadata": {},
   "source": [
    "# 1. PRE-WORK\n",
    "\n",
    "## 1. DATA PROCESSING\n",
    "Download the original CSV files from [Twitter](https://blog.twitter.com/en_us/topics/company/2019/information_operations_directed_at_Hong_Kong.html). "
   ]
  },
  {
   "cell_type": "code",
   "execution_count": 4,
   "metadata": {},
   "outputs": [
    {
     "name": "stderr",
     "output_type": "stream",
     "text": [
      "/anaconda3/lib/python3.6/site-packages/IPython/core/interactiveshell.py:3020: DtypeWarning: Columns (15,19,30) have mixed types. Specify dtype option on import or set low_memory=False.\n",
      "  interactivity=interactivity, compiler=compiler, result=result)\n"
     ]
    }
   ],
   "source": [
    "# Reminder that the raw1/2 CSV files are NOT in this repo. Download directly from Twitter; link above\n",
    "raw1 = pd.read_csv('../data/china_082019_1_tweets_csv_hashed.csv')\n",
    "raw2 = pd.read_csv('../data/china_082019_2_tweets_csv_hashed.csv')\n",
    "raw = pd.concat([raw1, raw2])"
   ]
  },
  {
   "cell_type": "code",
   "execution_count": 5,
   "metadata": {},
   "outputs": [],
   "source": [
    "raw = raw.drop(\n",
    "    columns=[\n",
    "        \"user_profile_url\",\n",
    "        \"tweet_client_name\",\n",
    "        \"in_reply_to_tweetid\",\n",
    "        \"in_reply_to_userid\",\n",
    "        \"quoted_tweet_tweetid\",\n",
    "        \"is_retweet\",\n",
    "        \"retweet_userid\",\n",
    "        \"retweet_tweetid\",\n",
    "        \"latitude\",\n",
    "        \"longitude\",\n",
    "        \"quote_count\",\n",
    "        \"reply_count\",\n",
    "        \"like_count\",\n",
    "        \"retweet_count\",\n",
    "        \"urls\",\n",
    "        \"user_mentions\",\n",
    "        \"poll_choices\",\n",
    "        \"hashtags\",\n",
    "    ]\n",
    ")"
   ]
  },
  {
   "cell_type": "code",
   "execution_count": 6,
   "metadata": {},
   "outputs": [],
   "source": [
    "# Converting timings to HK time\n",
    "raw['tweet_time'] = pd.to_datetime(raw['tweet_time'])\n",
    "raw['tweet_time'] = raw['tweet_time'].dt.tz_localize('GMT').dt.tz_convert('Hongkong')\n",
    "raw['tweet_year'] = raw['tweet_time'].dt.year\n",
    "raw['tweet_month'] = raw['tweet_time'].dt.month\n",
    "raw['tweet_day'] = raw['tweet_time'].dt.day"
   ]
  },
  {
   "cell_type": "code",
   "execution_count": 7,
   "metadata": {},
   "outputs": [],
   "source": [
    "raw['account_creation_date'] = pd.to_datetime(raw['account_creation_date'], yearfirst=True)\n",
    "raw['year_of_account_creation'] = raw['account_creation_date'].dt.year\n",
    "raw['month_of_account_creation'] = raw['account_creation_date'].dt.month\n",
    "raw['day_of_account_creation'] = raw['account_creation_date'].dt.day"
   ]
  },
  {
   "cell_type": "code",
   "execution_count": 8,
   "metadata": {},
   "outputs": [],
   "source": [
    "# I'll focus only on tweets sent from 2017\n",
    "raw = raw[(raw[\"tweet_year\"] >= 2017)].copy()"
   ]
  },
  {
   "cell_type": "code",
   "execution_count": 9,
   "metadata": {},
   "outputs": [],
   "source": [
    "# Filtering out tweets which mention fugitive Chinese billionaire Guo Wengui, \n",
    "# and other irrelevant characters like US-based dissidents Yang Jianli, Guo Baosheng etc\n",
    "# Also filtering out additional stop words\n",
    "raw = raw[~raw[\"tweet_text\"].str.contains(\"郭文贵\")].copy()\n",
    "raw = raw[~raw[\"tweet_text\"].str.contains(\"文贵\")].copy()\n",
    "raw = raw[~raw[\"tweet_text\"].str.contains(\"郭文\")].copy()\n",
    "raw = raw[~raw[\"tweet_text\"].str.contains(\"杨建利\")].copy()\n",
    "raw = raw[~raw[\"tweet_text\"].str.contains(\"郭宝胜\")].copy()\n",
    "raw = raw[~raw[\"tweet_text\"].str.contains(\"宝胜\")].copy()\n",
    "raw = raw[~raw[\"tweet_text\"].str.contains(\"老郭\")].copy()\n",
    "raw = raw[~raw[\"tweet_text\"].str.contains(\"郭狗\")].copy()\n",
    "raw = raw[~raw[\"tweet_text\"].str.contains(\"郭骗子\")].copy()\n",
    "raw = raw[~raw[\"tweet_text\"].str.contains(\"余文生\")].copy()\n",
    "raw = raw[~raw[\"tweet_text\"].str.contains(\"吴小晖\")].copy()\n",
    "raw = raw[~raw[\"tweet_text\"].str.contains(\"整点\")].copy()\n",
    "raw = raw[~raw[\"tweet_text\"].str.contains(\"日电\")].copy()\n",
    "raw = raw[~raw[\"tweet_text\"].str.contains(\"时间\")].copy()\n",
    "raw = raw[~raw[\"tweet_text\"].str.contains(\"桂海\")].copy()"
   ]
  },
  {
   "cell_type": "code",
   "execution_count": 10,
   "metadata": {},
   "outputs": [],
   "source": [
    "# In this notebook, I'll focus only on Chinese tweets. \n",
    "# In earlier drafts, I found that troll accounts with English language settings were sending out Chinese tweets too,\n",
    "# so provisions were made here to include those \n",
    "# Note the sub-categories for Twitter language settings for English and Chinese\n",
    "\n",
    "raw_ch = raw[\n",
    "    (raw[\"tweet_language\"] == \"zh\")\n",
    "    & (\n",
    "        (raw[\"account_language\"] == \"en\")\n",
    "        | (raw[\"account_language\"] == \"en-gb\")\n",
    "        | (raw[\"account_language\"] == \"zh-cn\")\n",
    "        | (raw[\"account_language\"] == \"zh-CN\")\n",
    "        | (raw[\"account_language\"] == \"zh-tw\")\n",
    "    )\n",
    "].copy()"
   ]
  },
  {
   "cell_type": "markdown",
   "metadata": {},
   "source": [
    "## 1.2 DATA FILTERING\n",
    "\n",
    "Like in the case for the English tweets subset, it would be too unwieldly and inefficient to plot a Scattertext chart for the entire Chinese tweets subset. The resulting interactive chart would be too large to display on most browsers as well.\n",
    "\n",
    "I opted to plot smaller individual charts for 3 key terms that we've seen come up repeatedly: \"香港\"(Hong Kong), \"外國勢力\"(foreign forces) and \"警察\"(police). You can experiment with different combinations of key words.  "
   ]
  },
  {
   "cell_type": "code",
   "execution_count": 11,
   "metadata": {},
   "outputs": [],
   "source": [
    "# I'll plot the Scattertext charts for these key terms individually, \n",
    "# When concated, the resultant body of text results in a huge html file which is hard to load\n",
    "\n",
    "hk_ch = raw_ch[raw_ch['tweet_text'].str.contains(\"香港\")].copy()"
   ]
  },
  {
   "cell_type": "code",
   "execution_count": 12,
   "metadata": {},
   "outputs": [],
   "source": [
    "# I chose these key terms as the trolls pushed hard for the conspiracy theory of a foreign plot in HK\n",
    "hk_ch2a = raw_ch[raw_ch['tweet_text'].str.contains(\"顏色革命\")].copy() # translation: color revolution\n",
    "hk_ch2b = raw_ch[raw_ch['tweet_text'].str.contains(\"外國勢力\")].copy() # translation: foreign forces\n",
    "hk_ch2c = raw_ch[raw_ch['tweet_text'].str.contains(\"美國\")].copy() # translation: America\n",
    "\n",
    "hk_ch2 = pd.concat([hk_ch2a, hk_ch2b, hk_ch2c])"
   ]
  },
  {
   "cell_type": "code",
   "execution_count": 13,
   "metadata": {},
   "outputs": [],
   "source": [
    "# Simple function to clean the tweet_text col\n",
    "\n",
    "def clean_tweet_ch(text):\n",
    "    text = text.strip(\" \")\n",
    "    text = text.strip(r\"\\n\")\n",
    "    text = re.sub(r\"[^\\w\\s]\", \"\", text)\n",
    "    text = re.sub(r\"http\\S+\", \"\", text)\n",
    "    filtered = re.compile(u'[^\\u4E00-\\u9FA5]') # non-Chinese unicode range\n",
    "    text = filtered.sub(r'', text) # remove all non-Chinese characters\n",
    "    return text"
   ]
  },
  {
   "cell_type": "code",
   "execution_count": 14,
   "metadata": {},
   "outputs": [],
   "source": [
    "hk_ch['clean_tweet_text'] = hk_ch['tweet_text'].map(lambda tweet: clean_tweet_ch(tweet))\n",
    "hk_ch2['clean_tweet_text'] = hk_ch2['tweet_text'].map(lambda tweet: clean_tweet_ch(tweet))"
   ]
  },
  {
   "cell_type": "code",
   "execution_count": 15,
   "metadata": {},
   "outputs": [],
   "source": [
    "# Creating a new column to classify a tweet as a retweet or actual tweet\n",
    "# This step is mandatory for the Scattertext plots\n",
    "\n",
    "hk_ch['tweet_status'] = np.where(hk_ch[\"tweet_text\"].str.startswith(\"RT @\"), \"retweet\", \"tweet\")\n",
    "hk_ch2['tweet_status'] = np.where(hk_ch2[\"tweet_text\"].str.startswith(\"RT @\"), \"retweet\", \"tweet\")"
   ]
  },
  {
   "cell_type": "code",
   "execution_count": 16,
   "metadata": {},
   "outputs": [
    {
     "data": {
      "text/plain": [
       "((2121, 21), (293, 21))"
      ]
     },
     "execution_count": 16,
     "metadata": {},
     "output_type": "execute_result"
    }
   ],
   "source": [
    "hk_ch.shape, hk_ch2.shape"
   ]
  },
  {
   "cell_type": "markdown",
   "metadata": {},
   "source": [
    "# 2. SCATTERTEXT PLOTS FOR CHINESE TWEETS\n",
    "\n",
    "# 2.1 Visualising Filtered Tweets For \"香港\"(Hong Kong)\n",
    "This subset consists of 1,551 \"original\" tweets and 570 retweets, and about 83,200 Chinese characters. Let's see how they appear on a Scattertext chart."
   ]
  },
  {
   "cell_type": "code",
   "execution_count": 17,
   "metadata": {},
   "outputs": [
    {
     "name": "stderr",
     "output_type": "stream",
     "text": [
      "Building prefix dict from /anaconda3/lib/python3.6/site-packages/jieba/dict.txt ...\n",
      "Loading model from cache /var/folders/6z/wrz4dxdx65585cc04rbtr1xh0000gn/T/jieba.cache\n",
      "Loading model cost 0.9550659656524658 seconds.\n",
      "Prefix dict has been built succesfully.\n"
     ]
    }
   ],
   "source": [
    "hk_ch['clean_tweet_text'] = hk_ch['clean_tweet_text'].apply(chinese_nlp)"
   ]
  },
  {
   "cell_type": "code",
   "execution_count": 18,
   "metadata": {},
   "outputs": [],
   "source": [
    "corpus = CorpusFromParsedDocuments(\n",
    "    hk_ch, category_col=\"tweet_status\", parsed_col=\"clean_tweet_text\"\n",
    ").build()"
   ]
  },
  {
   "cell_type": "code",
   "execution_count": 19,
   "metadata": {},
   "outputs": [
    {
     "name": "stdout",
     "output_type": "stream",
     "text": [
      "Terms most associated with trolls' tweets (Chinese): ['陳', '出席', '佔', '今年', '舉行', '發展', '港獨', '香港 特區', '公布', '約']\n",
      "Terms most associated with trolls' retweets (Chinese): ['輿論', '遠離', '暴力 小心', '遠離 暴力', '處置', '德國員警', '德國員警 是', '錯誤', '小心', '本身 的']\n"
     ]
    }
   ],
   "source": [
    "term_freq_df = corpus.get_term_freq_df()\n",
    "\n",
    "term_freq_df[\"Tweet Score\"] = corpus.get_scaled_f_scores(\"tweet\")\n",
    "print(\n",
    "    \"Terms most associated with trolls' tweets (Chinese):\",\n",
    "    list(term_freq_df.sort_values(by=\"Tweet Score\", ascending=False).index[:10]),\n",
    ")\n",
    "\n",
    "term_freq_df[\"Retweet Score\"] = corpus.get_scaled_f_scores(\"retweet\")\n",
    "print(\n",
    "    \"Terms most associated with trolls' retweets (Chinese):\",\n",
    "    list(term_freq_df.sort_values(by=\"Retweet Score\", ascending=False).index[:10]),\n",
    ")\n"
   ]
  },
  {
   "cell_type": "code",
   "execution_count": 20,
   "metadata": {},
   "outputs": [
    {
     "data": {
      "text/html": [
       "\n",
       "        <iframe\n",
       "            width=\"1200\"\n",
       "            height=\"700\"\n",
       "            src=\"../output/ch1.html\"\n",
       "            frameborder=\"0\"\n",
       "            allowfullscreen\n",
       "        ></iframe>\n",
       "        "
      ],
      "text/plain": [
       "<IPython.lib.display.IFrame at 0x1a5b389be0>"
      ]
     },
     "execution_count": 20,
     "metadata": {},
     "output_type": "execute_result"
    }
   ],
   "source": [
    "html = produce_scattertext_explorer(\n",
    "    corpus,\n",
    "    category=\"tweet\",\n",
    "    category_name=\"Tweets\",\n",
    "    not_category_name=\"Retweets\",\n",
    "    width_in_pixels=1000,\n",
    "    metadata=hk_ch[\"user_screen_name\"],\n",
    "    asian_mode=True,\n",
    "    show_characteristic=False,\n",
    ")\n",
    "\n",
    "interactive = \"../output/ch1.html\"\n",
    "open(interactive, \"w\").write(html)\n",
    "\n",
    "IFrame(src=interactive, width=1200, height=700)"
   ]
  },
  {
   "cell_type": "markdown",
   "metadata": {},
   "source": [
    "## INTERPRETING THE FIRST SCATTERTEXT CHART:\n",
    "\n",
    "### Colour\n",
    " - The words in the chart are colored by their association. Those in blue are more associated with original tweets, while those in red are more associated with retweets. Each dot corresponds to a word or phrase mentioned.\n",
    "\n",
    "### Positioning: \n",
    "- Words nearer the top of the plot represent the most frequently used words in the \"original\" tweets. In this chart, we can see that terms used by the trolls to criticise the protest movement (\"港獨\", or HK independence), or to push conspiracy theories (\"美國\", or the US, which Beijing accused of formenting the protests) feature well near the top\n",
    "\n",
    "- The further right a dot, the more that word or phrase was used in retweets. Here, we see the retweets pushing the trolls' message for strict law enforcement and , with terms such as \"嚴正執法\" and \"社會治安\".\n",
    "\n",
    "- Words that appear frequently in both tweets and rewteets, like \"香港\"(Hong Kong) and \"暴力\"(violence), appear in the upper-right-hand corner.\n",
    "\n",
    "- Words that aren't often used in either tweets or retweets appear in the bottom-left-hand corner.\n",
    "\n",
    "\n",
    "### Key Areas:\n",
    "- Upper-left corner: These words appear frequently in the tweets but not the retweets. We still see a fair bit of noise here, as evidenced by the appearance of words like \"桂民海\" (detained HK bookseller Gui Minghai) near the very top.\n",
    "\n",
    "- Lower-right corner: Likewise, words which appear frequently in retweets but not the tweets appear in the lower right corner. Here we see terms urging people to be careful of potential violence at the protests.\n",
    "\n",
    "Download the chart [here](https://www.dropbox.com/sh/jmb1oy0kak18cwy/AABfHXYoA_P8d6Tw-scNpDVia?dl=0) for a fuller look. Use the search box at the bottom of the chart to see how the word was used in the tweets and retweets by the various users in the subset. "
   ]
  },
  {
   "cell_type": "markdown",
   "metadata": {},
   "source": [
    "# 2.2 Visualising Filtered Tweets For \"顏色革命\"(Color Revolution), \"外國勢力\"(Foreign Forces) And \"美國\"(United States)\n",
    "\n",
    "As we've seen in Part 3, the trolls pushed hard at the conspiracy theory about the US and UK formenting a color revolution in the HK. Let's see how they appear on a Scattertext chart.\n",
    "\n",
    "This subset consists of 207 \"original\" tweets and 86 retweets, and about 12,700 Chinese characters. "
   ]
  },
  {
   "cell_type": "code",
   "execution_count": 21,
   "metadata": {},
   "outputs": [
    {
     "name": "stdout",
     "output_type": "stream",
     "text": [
      "Terms most associated with trolls' tweets (Chinese): ['佔', '民族', '佔 中', '浩天', '陳 浩天', '香港 民族', '去', '世界', '年', '勾']\n",
      "Terms most associated with trolls' retweets (Chinese): ['本質', '這場', '的 本質', '鼓動', '有 計劃', '支持 下', '一場 有', '有 預謀有', '預謀有 組織', '組織 有']\n"
     ]
    }
   ],
   "source": [
    "hk_ch2['clean_tweet_text'] = hk_ch2['clean_tweet_text'].apply(chinese_nlp)\n",
    "\n",
    "corpus2 = CorpusFromParsedDocuments(\n",
    "    hk_ch2, category_col=\"tweet_status\", parsed_col=\"clean_tweet_text\"\n",
    ").build()\n",
    "\n",
    "\n",
    "term_freq_df2 = corpus2.get_term_freq_df()\n",
    "\n",
    "term_freq_df2[\"Tweet Score\"] = corpus2.get_scaled_f_scores(\"tweet\")\n",
    "print(\n",
    "    \"Terms most associated with trolls' tweets (Chinese):\",\n",
    "    list(term_freq_df2.sort_values(by=\"Tweet Score\", ascending=False).index[:10]),\n",
    ")\n",
    "\n",
    "term_freq_df2[\"Retweet Score\"] = corpus2.get_scaled_f_scores(\"retweet\")\n",
    "print(\n",
    "    \"Terms most associated with trolls' retweets (Chinese):\",\n",
    "    list(term_freq_df2.sort_values(by=\"Retweet Score\", ascending=False).index[:10]),\n",
    ")"
   ]
  },
  {
   "cell_type": "code",
   "execution_count": 22,
   "metadata": {},
   "outputs": [
    {
     "data": {
      "text/html": [
       "\n",
       "        <iframe\n",
       "            width=\"1200\"\n",
       "            height=\"700\"\n",
       "            src=\"../output/ch2.html\"\n",
       "            frameborder=\"0\"\n",
       "            allowfullscreen\n",
       "        ></iframe>\n",
       "        "
      ],
      "text/plain": [
       "<IPython.lib.display.IFrame at 0x1a6ad70208>"
      ]
     },
     "execution_count": 22,
     "metadata": {},
     "output_type": "execute_result"
    }
   ],
   "source": [
    "html2 = produce_scattertext_explorer(\n",
    "    corpus2,\n",
    "    category=\"tweet\",\n",
    "    category_name=\"Tweets\",\n",
    "    not_category_name=\"Retweets\",\n",
    "    width_in_pixels=1000,\n",
    "    metadata=hk_ch2[\"user_screen_name\"],\n",
    "    asian_mode=True,\n",
    "    show_characteristic=False,\n",
    ")\n",
    "\n",
    "interactive2 = \"../output/ch2.html\"\n",
    "open(interactive2, \"w\").write(html2)\n",
    "\n",
    "IFrame(src=interactive2, width=1200, height=700)"
   ]
  },
  {
   "cell_type": "markdown",
   "metadata": {},
   "source": [
    "## INTERPRETING THE SECOND SCATTERTEXT CHART:\n",
    "\n",
    "### Colour\n",
    " - The words in the chart are colored by their association. Those in blue are more associated with original tweets, while those in red are more associated with retweets. Each dot corresponds to a word or phrase mentioned.\n",
    "\n",
    "### Positioning: \n",
    "- Words nearer the top of the plot represent the most frequently used words in the \"original\" tweets. In this chart, the terms used by the trolls to push the conspiracy theories - \"顏色革命\" and \"外國勢力\" - naturally feature well near the top. Use the search box to see which accounts are actively pushing these tweets and retweets - @HKpoliticalnew, @mari1lcaire and a number of hashed accounts. \n",
    "\n",
    "- The further right a dot, the more that word or phrase was used in retweets. \n",
    "\n",
    "- Words that appear frequently in both tweets and rewteets, like \"香港\"(Hong Kong), \"中國 \"(China), and \"逃犯條例\"(extradition Bill) appear in the upper-right-hand corner.\n",
    "\n",
    "- Words that aren't often used in either tweets or retweets appear in the bottom-left-hand corner.\n",
    "\n",
    "\n",
    "### Key Areas:\n",
    "- Upper-left corner: These words appear frequently in the tweets but not the retweets. We see some mention of entrepreneur [Jimmy Lai(\"黎智英)](https://en.wikipedia.org/wiki/Jimmy_Lai) and political activist [Andy Chan(\"陳浩天\")](https://en.wikipedia.org/wiki/Chan_Ho-tin), two people heavily targetted by Beijing's criticisms.\n",
    "\n",
    "- Lower-right corner: Likewise, words which appear frequently in retweets but not the tweets appear in the lower right corner.\n",
    "\n",
    "Download the chart [here](https://www.dropbox.com/sh/jmb1oy0kak18cwy/AABfHXYoA_P8d6Tw-scNpDVia?dl=0) for a fuller look. Use the search box at the bottom of the chart to see how the word was used in the tweets and retweets by the various users in the subset. "
   ]
  },
  {
   "cell_type": "code",
   "execution_count": null,
   "metadata": {},
   "outputs": [],
   "source": []
  }
 ],
 "metadata": {
  "kernelspec": {
   "display_name": "Python 3",
   "language": "python",
   "name": "python3"
  },
  "language_info": {
   "codemirror_mode": {
    "name": "ipython",
    "version": 3
   },
   "file_extension": ".py",
   "mimetype": "text/x-python",
   "name": "python",
   "nbconvert_exporter": "python",
   "pygments_lexer": "ipython3",
   "version": "3.6.8"
  }
 },
 "nbformat": 4,
 "nbformat_minor": 4
}
